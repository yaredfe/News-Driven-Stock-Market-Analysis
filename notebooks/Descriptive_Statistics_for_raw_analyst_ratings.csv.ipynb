{
 "cells": [
  {
   "cell_type": "code",
   "execution_count": 1,
   "id": "3fce51ec",
   "metadata": {},
   "outputs": [],
   "source": [
    "import numpy as np \n",
    "import pandas as pd \n",
    "import matplotlib.pyplot as plt\n",
    "import seaborn as sns"
   ]
  },
  {
   "cell_type": "code",
   "execution_count": 2,
   "id": "b665f83c",
   "metadata": {},
   "outputs": [],
   "source": [
    "data=pd.read_csv(\"C:\\\\Users\\\\User\\\\Downloads\\\\film\\\\News-Driven-stock-Market-Analysis\\\\data\\\\raw_analyst_ratings.csv\",index_col=None)"
   ]
  },
  {
   "cell_type": "code",
   "execution_count": 3,
   "id": "f2791d1c",
   "metadata": {},
   "outputs": [
    {
     "data": {
      "text/html": [
       "<div>\n",
       "<style scoped>\n",
       "    .dataframe tbody tr th:only-of-type {\n",
       "        vertical-align: middle;\n",
       "    }\n",
       "\n",
       "    .dataframe tbody tr th {\n",
       "        vertical-align: top;\n",
       "    }\n",
       "\n",
       "    .dataframe thead th {\n",
       "        text-align: right;\n",
       "    }\n",
       "</style>\n",
       "<table border=\"1\" class=\"dataframe\">\n",
       "  <thead>\n",
       "    <tr style=\"text-align: right;\">\n",
       "      <th></th>\n",
       "      <th>Unnamed: 0</th>\n",
       "      <th>headline</th>\n",
       "      <th>url</th>\n",
       "      <th>publisher</th>\n",
       "      <th>date</th>\n",
       "      <th>stock</th>\n",
       "    </tr>\n",
       "  </thead>\n",
       "  <tbody>\n",
       "    <tr>\n",
       "      <th>0</th>\n",
       "      <td>0</td>\n",
       "      <td>Stocks That Hit 52-Week Highs On Friday</td>\n",
       "      <td>https://www.benzinga.com/news/20/06/16190091/s...</td>\n",
       "      <td>Benzinga Insights</td>\n",
       "      <td>2020-06-05 10:30:54-04:00</td>\n",
       "      <td>A</td>\n",
       "    </tr>\n",
       "    <tr>\n",
       "      <th>1</th>\n",
       "      <td>1</td>\n",
       "      <td>Stocks That Hit 52-Week Highs On Wednesday</td>\n",
       "      <td>https://www.benzinga.com/news/20/06/16170189/s...</td>\n",
       "      <td>Benzinga Insights</td>\n",
       "      <td>2020-06-03 10:45:20-04:00</td>\n",
       "      <td>A</td>\n",
       "    </tr>\n",
       "    <tr>\n",
       "      <th>2</th>\n",
       "      <td>2</td>\n",
       "      <td>71 Biggest Movers From Friday</td>\n",
       "      <td>https://www.benzinga.com/news/20/05/16103463/7...</td>\n",
       "      <td>Lisa Levin</td>\n",
       "      <td>2020-05-26 04:30:07-04:00</td>\n",
       "      <td>A</td>\n",
       "    </tr>\n",
       "    <tr>\n",
       "      <th>3</th>\n",
       "      <td>3</td>\n",
       "      <td>46 Stocks Moving In Friday's Mid-Day Session</td>\n",
       "      <td>https://www.benzinga.com/news/20/05/16095921/4...</td>\n",
       "      <td>Lisa Levin</td>\n",
       "      <td>2020-05-22 12:45:06-04:00</td>\n",
       "      <td>A</td>\n",
       "    </tr>\n",
       "    <tr>\n",
       "      <th>4</th>\n",
       "      <td>4</td>\n",
       "      <td>B of A Securities Maintains Neutral on Agilent...</td>\n",
       "      <td>https://www.benzinga.com/news/20/05/16095304/b...</td>\n",
       "      <td>Vick Meyer</td>\n",
       "      <td>2020-05-22 11:38:59-04:00</td>\n",
       "      <td>A</td>\n",
       "    </tr>\n",
       "  </tbody>\n",
       "</table>\n",
       "</div>"
      ],
      "text/plain": [
       "   Unnamed: 0                                           headline  \\\n",
       "0           0            Stocks That Hit 52-Week Highs On Friday   \n",
       "1           1         Stocks That Hit 52-Week Highs On Wednesday   \n",
       "2           2                      71 Biggest Movers From Friday   \n",
       "3           3       46 Stocks Moving In Friday's Mid-Day Session   \n",
       "4           4  B of A Securities Maintains Neutral on Agilent...   \n",
       "\n",
       "                                                 url          publisher  \\\n",
       "0  https://www.benzinga.com/news/20/06/16190091/s...  Benzinga Insights   \n",
       "1  https://www.benzinga.com/news/20/06/16170189/s...  Benzinga Insights   \n",
       "2  https://www.benzinga.com/news/20/05/16103463/7...         Lisa Levin   \n",
       "3  https://www.benzinga.com/news/20/05/16095921/4...         Lisa Levin   \n",
       "4  https://www.benzinga.com/news/20/05/16095304/b...         Vick Meyer   \n",
       "\n",
       "                        date stock  \n",
       "0  2020-06-05 10:30:54-04:00     A  \n",
       "1  2020-06-03 10:45:20-04:00     A  \n",
       "2  2020-05-26 04:30:07-04:00     A  \n",
       "3  2020-05-22 12:45:06-04:00     A  \n",
       "4  2020-05-22 11:38:59-04:00     A  "
      ]
     },
     "execution_count": 3,
     "metadata": {},
     "output_type": "execute_result"
    }
   ],
   "source": [
    "data.head()"
   ]
  },
  {
   "cell_type": "code",
   "execution_count": 4,
   "id": "0b3ed97f",
   "metadata": {},
   "outputs": [],
   "source": [
    "data=data.drop(columns=\"Unnamed: 0\",axis=1)"
   ]
  },
  {
   "cell_type": "markdown",
   "id": "bd40d526",
   "metadata": {},
   "source": [
    "# # # the above code will remove the duplicated index column which is orginally present in the data set"
   ]
  },
  {
   "cell_type": "code",
   "execution_count": 5,
   "id": "cd27956c",
   "metadata": {},
   "outputs": [
    {
     "data": {
      "text/html": [
       "<div>\n",
       "<style scoped>\n",
       "    .dataframe tbody tr th:only-of-type {\n",
       "        vertical-align: middle;\n",
       "    }\n",
       "\n",
       "    .dataframe tbody tr th {\n",
       "        vertical-align: top;\n",
       "    }\n",
       "\n",
       "    .dataframe thead th {\n",
       "        text-align: right;\n",
       "    }\n",
       "</style>\n",
       "<table border=\"1\" class=\"dataframe\">\n",
       "  <thead>\n",
       "    <tr style=\"text-align: right;\">\n",
       "      <th></th>\n",
       "      <th>headline</th>\n",
       "      <th>url</th>\n",
       "      <th>publisher</th>\n",
       "      <th>date</th>\n",
       "      <th>stock</th>\n",
       "    </tr>\n",
       "  </thead>\n",
       "  <tbody>\n",
       "    <tr>\n",
       "      <th>0</th>\n",
       "      <td>Stocks That Hit 52-Week Highs On Friday</td>\n",
       "      <td>https://www.benzinga.com/news/20/06/16190091/s...</td>\n",
       "      <td>Benzinga Insights</td>\n",
       "      <td>2020-06-05 10:30:54-04:00</td>\n",
       "      <td>A</td>\n",
       "    </tr>\n",
       "    <tr>\n",
       "      <th>1</th>\n",
       "      <td>Stocks That Hit 52-Week Highs On Wednesday</td>\n",
       "      <td>https://www.benzinga.com/news/20/06/16170189/s...</td>\n",
       "      <td>Benzinga Insights</td>\n",
       "      <td>2020-06-03 10:45:20-04:00</td>\n",
       "      <td>A</td>\n",
       "    </tr>\n",
       "    <tr>\n",
       "      <th>2</th>\n",
       "      <td>71 Biggest Movers From Friday</td>\n",
       "      <td>https://www.benzinga.com/news/20/05/16103463/7...</td>\n",
       "      <td>Lisa Levin</td>\n",
       "      <td>2020-05-26 04:30:07-04:00</td>\n",
       "      <td>A</td>\n",
       "    </tr>\n",
       "    <tr>\n",
       "      <th>3</th>\n",
       "      <td>46 Stocks Moving In Friday's Mid-Day Session</td>\n",
       "      <td>https://www.benzinga.com/news/20/05/16095921/4...</td>\n",
       "      <td>Lisa Levin</td>\n",
       "      <td>2020-05-22 12:45:06-04:00</td>\n",
       "      <td>A</td>\n",
       "    </tr>\n",
       "    <tr>\n",
       "      <th>4</th>\n",
       "      <td>B of A Securities Maintains Neutral on Agilent...</td>\n",
       "      <td>https://www.benzinga.com/news/20/05/16095304/b...</td>\n",
       "      <td>Vick Meyer</td>\n",
       "      <td>2020-05-22 11:38:59-04:00</td>\n",
       "      <td>A</td>\n",
       "    </tr>\n",
       "    <tr>\n",
       "      <th>...</th>\n",
       "      <td>...</td>\n",
       "      <td>...</td>\n",
       "      <td>...</td>\n",
       "      <td>...</td>\n",
       "      <td>...</td>\n",
       "    </tr>\n",
       "    <tr>\n",
       "      <th>1407323</th>\n",
       "      <td>Top Narrow Based Indexes For August 29</td>\n",
       "      <td>https://www.benzinga.com/news/11/08/1888782/to...</td>\n",
       "      <td>Monica Gerson</td>\n",
       "      <td>2011-08-29 00:00:00</td>\n",
       "      <td>ZX</td>\n",
       "    </tr>\n",
       "    <tr>\n",
       "      <th>1407324</th>\n",
       "      <td>Recap: Wednesday's Top Percentage Gainers and ...</td>\n",
       "      <td>https://www.benzinga.com/news/earnings/11/06/1...</td>\n",
       "      <td>Benjamin Lee</td>\n",
       "      <td>2011-06-22 00:00:00</td>\n",
       "      <td>ZX</td>\n",
       "    </tr>\n",
       "    <tr>\n",
       "      <th>1407325</th>\n",
       "      <td>UPDATE: Oppenheimer Color on China Zenix Auto ...</td>\n",
       "      <td>https://www.benzinga.com/analyst-ratings/analy...</td>\n",
       "      <td>BenzingaStaffL</td>\n",
       "      <td>2011-06-21 00:00:00</td>\n",
       "      <td>ZX</td>\n",
       "    </tr>\n",
       "    <tr>\n",
       "      <th>1407326</th>\n",
       "      <td>Oppenheimer Initiates China Zenix At Outperfor...</td>\n",
       "      <td>https://www.benzinga.com/analyst-ratings/price...</td>\n",
       "      <td>Joe Young</td>\n",
       "      <td>2011-06-21 00:00:00</td>\n",
       "      <td>ZX</td>\n",
       "    </tr>\n",
       "    <tr>\n",
       "      <th>1407327</th>\n",
       "      <td>China Zenix Auto International Opens For Tradi...</td>\n",
       "      <td>https://www.benzinga.com/news/ipos/11/05/10789...</td>\n",
       "      <td>Allie Wickman</td>\n",
       "      <td>2011-05-12 00:00:00</td>\n",
       "      <td>ZX</td>\n",
       "    </tr>\n",
       "  </tbody>\n",
       "</table>\n",
       "<p>1407328 rows × 5 columns</p>\n",
       "</div>"
      ],
      "text/plain": [
       "                                                  headline  \\\n",
       "0                  Stocks That Hit 52-Week Highs On Friday   \n",
       "1               Stocks That Hit 52-Week Highs On Wednesday   \n",
       "2                            71 Biggest Movers From Friday   \n",
       "3             46 Stocks Moving In Friday's Mid-Day Session   \n",
       "4        B of A Securities Maintains Neutral on Agilent...   \n",
       "...                                                    ...   \n",
       "1407323             Top Narrow Based Indexes For August 29   \n",
       "1407324  Recap: Wednesday's Top Percentage Gainers and ...   \n",
       "1407325  UPDATE: Oppenheimer Color on China Zenix Auto ...   \n",
       "1407326  Oppenheimer Initiates China Zenix At Outperfor...   \n",
       "1407327  China Zenix Auto International Opens For Tradi...   \n",
       "\n",
       "                                                       url          publisher  \\\n",
       "0        https://www.benzinga.com/news/20/06/16190091/s...  Benzinga Insights   \n",
       "1        https://www.benzinga.com/news/20/06/16170189/s...  Benzinga Insights   \n",
       "2        https://www.benzinga.com/news/20/05/16103463/7...         Lisa Levin   \n",
       "3        https://www.benzinga.com/news/20/05/16095921/4...         Lisa Levin   \n",
       "4        https://www.benzinga.com/news/20/05/16095304/b...         Vick Meyer   \n",
       "...                                                    ...                ...   \n",
       "1407323  https://www.benzinga.com/news/11/08/1888782/to...      Monica Gerson   \n",
       "1407324  https://www.benzinga.com/news/earnings/11/06/1...       Benjamin Lee   \n",
       "1407325  https://www.benzinga.com/analyst-ratings/analy...     BenzingaStaffL   \n",
       "1407326  https://www.benzinga.com/analyst-ratings/price...          Joe Young   \n",
       "1407327  https://www.benzinga.com/news/ipos/11/05/10789...      Allie Wickman   \n",
       "\n",
       "                              date stock  \n",
       "0        2020-06-05 10:30:54-04:00     A  \n",
       "1        2020-06-03 10:45:20-04:00     A  \n",
       "2        2020-05-26 04:30:07-04:00     A  \n",
       "3        2020-05-22 12:45:06-04:00     A  \n",
       "4        2020-05-22 11:38:59-04:00     A  \n",
       "...                            ...   ...  \n",
       "1407323        2011-08-29 00:00:00    ZX  \n",
       "1407324        2011-06-22 00:00:00    ZX  \n",
       "1407325        2011-06-21 00:00:00    ZX  \n",
       "1407326        2011-06-21 00:00:00    ZX  \n",
       "1407327        2011-05-12 00:00:00    ZX  \n",
       "\n",
       "[1407328 rows x 5 columns]"
      ]
     },
     "execution_count": 5,
     "metadata": {},
     "output_type": "execute_result"
    }
   ],
   "source": [
    "data"
   ]
  },
  {
   "cell_type": "code",
   "execution_count": 6,
   "id": "06168e56",
   "metadata": {},
   "outputs": [
    {
     "name": "stdout",
     "output_type": "stream",
     "text": [
      "<class 'pandas.core.frame.DataFrame'>\n",
      "RangeIndex: 1407328 entries, 0 to 1407327\n",
      "Data columns (total 5 columns):\n",
      " #   Column     Non-Null Count    Dtype \n",
      "---  ------     --------------    ----- \n",
      " 0   headline   1407328 non-null  object\n",
      " 1   url        1407328 non-null  object\n",
      " 2   publisher  1407328 non-null  object\n",
      " 3   date       1407328 non-null  object\n",
      " 4   stock      1407328 non-null  object\n",
      "dtypes: object(5)\n",
      "memory usage: 53.7+ MB\n"
     ]
    }
   ],
   "source": [
    "data.info()"
   ]
  },
  {
   "cell_type": "code",
   "execution_count": 7,
   "id": "d8ab15d8",
   "metadata": {
    "scrolled": true
   },
   "outputs": [
    {
     "data": {
      "text/html": [
       "<div>\n",
       "<style scoped>\n",
       "    .dataframe tbody tr th:only-of-type {\n",
       "        vertical-align: middle;\n",
       "    }\n",
       "\n",
       "    .dataframe tbody tr th {\n",
       "        vertical-align: top;\n",
       "    }\n",
       "\n",
       "    .dataframe thead th {\n",
       "        text-align: right;\n",
       "    }\n",
       "</style>\n",
       "<table border=\"1\" class=\"dataframe\">\n",
       "  <thead>\n",
       "    <tr style=\"text-align: right;\">\n",
       "      <th></th>\n",
       "      <th>headline</th>\n",
       "      <th>url</th>\n",
       "      <th>publisher</th>\n",
       "      <th>date</th>\n",
       "      <th>stock</th>\n",
       "    </tr>\n",
       "  </thead>\n",
       "  <tbody>\n",
       "    <tr>\n",
       "      <th>count</th>\n",
       "      <td>1407328</td>\n",
       "      <td>1407328</td>\n",
       "      <td>1407328</td>\n",
       "      <td>1407328</td>\n",
       "      <td>1407328</td>\n",
       "    </tr>\n",
       "    <tr>\n",
       "      <th>unique</th>\n",
       "      <td>845770</td>\n",
       "      <td>883429</td>\n",
       "      <td>1034</td>\n",
       "      <td>39957</td>\n",
       "      <td>6204</td>\n",
       "    </tr>\n",
       "    <tr>\n",
       "      <th>top</th>\n",
       "      <td>Benzinga's Top Upgrades</td>\n",
       "      <td>https://www.benzinga.com/news/20/03/15538835/s...</td>\n",
       "      <td>Paul Quintaro</td>\n",
       "      <td>2020-03-12 00:00:00</td>\n",
       "      <td>MRK</td>\n",
       "    </tr>\n",
       "    <tr>\n",
       "      <th>freq</th>\n",
       "      <td>5449</td>\n",
       "      <td>1704</td>\n",
       "      <td>228373</td>\n",
       "      <td>1766</td>\n",
       "      <td>3333</td>\n",
       "    </tr>\n",
       "  </tbody>\n",
       "</table>\n",
       "</div>"
      ],
      "text/plain": [
       "                       headline  \\\n",
       "count                   1407328   \n",
       "unique                   845770   \n",
       "top     Benzinga's Top Upgrades   \n",
       "freq                       5449   \n",
       "\n",
       "                                                      url      publisher  \\\n",
       "count                                             1407328        1407328   \n",
       "unique                                             883429           1034   \n",
       "top     https://www.benzinga.com/news/20/03/15538835/s...  Paul Quintaro   \n",
       "freq                                                 1704         228373   \n",
       "\n",
       "                       date    stock  \n",
       "count               1407328  1407328  \n",
       "unique                39957     6204  \n",
       "top     2020-03-12 00:00:00      MRK  \n",
       "freq                   1766     3333  "
      ]
     },
     "execution_count": 7,
     "metadata": {},
     "output_type": "execute_result"
    }
   ],
   "source": [
    "data.describe(include=\"object\")"
   ]
  },
  {
   "cell_type": "code",
   "execution_count": 8,
   "id": "0cf7b581",
   "metadata": {},
   "outputs": [
    {
     "data": {
      "text/plain": [
       "headline     0\n",
       "url          0\n",
       "publisher    0\n",
       "date         0\n",
       "stock        0\n",
       "dtype: int64"
      ]
     },
     "execution_count": 8,
     "metadata": {},
     "output_type": "execute_result"
    }
   ],
   "source": [
    "data.isnull().sum()"
   ]
  },
  {
   "cell_type": "markdown",
   "id": "ecab87db",
   "metadata": {},
   "source": [
    "### the above result show  there is no columns in our data set  which have a  value null"
   ]
  },
  {
   "cell_type": "code",
   "execution_count": 9,
   "id": "d849b299",
   "metadata": {},
   "outputs": [
    {
     "data": {
      "text/html": [
       "<div>\n",
       "<style scoped>\n",
       "    .dataframe tbody tr th:only-of-type {\n",
       "        vertical-align: middle;\n",
       "    }\n",
       "\n",
       "    .dataframe tbody tr th {\n",
       "        vertical-align: top;\n",
       "    }\n",
       "\n",
       "    .dataframe thead th {\n",
       "        text-align: right;\n",
       "    }\n",
       "</style>\n",
       "<table border=\"1\" class=\"dataframe\">\n",
       "  <thead>\n",
       "    <tr style=\"text-align: right;\">\n",
       "      <th></th>\n",
       "      <th>headline</th>\n",
       "      <th>url</th>\n",
       "      <th>publisher</th>\n",
       "      <th>date</th>\n",
       "      <th>stock</th>\n",
       "    </tr>\n",
       "  </thead>\n",
       "  <tbody>\n",
       "    <tr>\n",
       "      <th>559384</th>\n",
       "      <td>Top Performing Industries For July 1, 2015</td>\n",
       "      <td>https://www.benzinga.com/news/15/07/5642290/to...</td>\n",
       "      <td>Lisa Levin</td>\n",
       "      <td>2015-07-01 00:00:00</td>\n",
       "      <td>GME</td>\n",
       "    </tr>\n",
       "  </tbody>\n",
       "</table>\n",
       "</div>"
      ],
      "text/plain": [
       "                                          headline  \\\n",
       "559384  Top Performing Industries For July 1, 2015   \n",
       "\n",
       "                                                      url   publisher  \\\n",
       "559384  https://www.benzinga.com/news/15/07/5642290/to...  Lisa Levin   \n",
       "\n",
       "                       date stock  \n",
       "559384  2015-07-01 00:00:00   GME  "
      ]
     },
     "execution_count": 9,
     "metadata": {},
     "output_type": "execute_result"
    }
   ],
   "source": [
    "data[data.duplicated()]"
   ]
  },
  {
   "cell_type": "markdown",
   "id": "223b1686",
   "metadata": {},
   "source": [
    "### we have one duplicated row for each column and we will leave it as it is, since it is not gonna be a problem for out anlysis"
   ]
  },
  {
   "cell_type": "code",
   "execution_count": 10,
   "id": "89dd89d3",
   "metadata": {},
   "outputs": [
    {
     "data": {
      "text/html": [
       "<div>\n",
       "<style scoped>\n",
       "    .dataframe tbody tr th:only-of-type {\n",
       "        vertical-align: middle;\n",
       "    }\n",
       "\n",
       "    .dataframe tbody tr th {\n",
       "        vertical-align: top;\n",
       "    }\n",
       "\n",
       "    .dataframe thead th {\n",
       "        text-align: right;\n",
       "    }\n",
       "</style>\n",
       "<table border=\"1\" class=\"dataframe\">\n",
       "  <thead>\n",
       "    <tr style=\"text-align: right;\">\n",
       "      <th></th>\n",
       "      <th>headline</th>\n",
       "      <th>url</th>\n",
       "      <th>publisher</th>\n",
       "      <th>date</th>\n",
       "      <th>stock</th>\n",
       "    </tr>\n",
       "  </thead>\n",
       "  <tbody>\n",
       "    <tr>\n",
       "      <th>0</th>\n",
       "      <td>Stocks That Hit 52-Week Highs On Friday</td>\n",
       "      <td>https://www.benzinga.com/news/20/06/16190091/s...</td>\n",
       "      <td>Benzinga Insights</td>\n",
       "      <td>2020-06-05 10:30:54-04:00</td>\n",
       "      <td>A</td>\n",
       "    </tr>\n",
       "    <tr>\n",
       "      <th>1</th>\n",
       "      <td>Stocks That Hit 52-Week Highs On Wednesday</td>\n",
       "      <td>https://www.benzinga.com/news/20/06/16170189/s...</td>\n",
       "      <td>Benzinga Insights</td>\n",
       "      <td>2020-06-03 10:45:20-04:00</td>\n",
       "      <td>A</td>\n",
       "    </tr>\n",
       "    <tr>\n",
       "      <th>2</th>\n",
       "      <td>71 Biggest Movers From Friday</td>\n",
       "      <td>https://www.benzinga.com/news/20/05/16103463/7...</td>\n",
       "      <td>Lisa Levin</td>\n",
       "      <td>2020-05-26 04:30:07-04:00</td>\n",
       "      <td>A</td>\n",
       "    </tr>\n",
       "    <tr>\n",
       "      <th>3</th>\n",
       "      <td>46 Stocks Moving In Friday's Mid-Day Session</td>\n",
       "      <td>https://www.benzinga.com/news/20/05/16095921/4...</td>\n",
       "      <td>Lisa Levin</td>\n",
       "      <td>2020-05-22 12:45:06-04:00</td>\n",
       "      <td>A</td>\n",
       "    </tr>\n",
       "    <tr>\n",
       "      <th>4</th>\n",
       "      <td>B of A Securities Maintains Neutral on Agilent...</td>\n",
       "      <td>https://www.benzinga.com/news/20/05/16095304/b...</td>\n",
       "      <td>Vick Meyer</td>\n",
       "      <td>2020-05-22 11:38:59-04:00</td>\n",
       "      <td>A</td>\n",
       "    </tr>\n",
       "    <tr>\n",
       "      <th>...</th>\n",
       "      <td>...</td>\n",
       "      <td>...</td>\n",
       "      <td>...</td>\n",
       "      <td>...</td>\n",
       "      <td>...</td>\n",
       "    </tr>\n",
       "    <tr>\n",
       "      <th>1407323</th>\n",
       "      <td>Top Narrow Based Indexes For August 29</td>\n",
       "      <td>https://www.benzinga.com/news/11/08/1888782/to...</td>\n",
       "      <td>Monica Gerson</td>\n",
       "      <td>2011-08-29 00:00:00</td>\n",
       "      <td>ZX</td>\n",
       "    </tr>\n",
       "    <tr>\n",
       "      <th>1407324</th>\n",
       "      <td>Recap: Wednesday's Top Percentage Gainers and ...</td>\n",
       "      <td>https://www.benzinga.com/news/earnings/11/06/1...</td>\n",
       "      <td>Benjamin Lee</td>\n",
       "      <td>2011-06-22 00:00:00</td>\n",
       "      <td>ZX</td>\n",
       "    </tr>\n",
       "    <tr>\n",
       "      <th>1407325</th>\n",
       "      <td>UPDATE: Oppenheimer Color on China Zenix Auto ...</td>\n",
       "      <td>https://www.benzinga.com/analyst-ratings/analy...</td>\n",
       "      <td>BenzingaStaffL</td>\n",
       "      <td>2011-06-21 00:00:00</td>\n",
       "      <td>ZX</td>\n",
       "    </tr>\n",
       "    <tr>\n",
       "      <th>1407326</th>\n",
       "      <td>Oppenheimer Initiates China Zenix At Outperfor...</td>\n",
       "      <td>https://www.benzinga.com/analyst-ratings/price...</td>\n",
       "      <td>Joe Young</td>\n",
       "      <td>2011-06-21 00:00:00</td>\n",
       "      <td>ZX</td>\n",
       "    </tr>\n",
       "    <tr>\n",
       "      <th>1407327</th>\n",
       "      <td>China Zenix Auto International Opens For Tradi...</td>\n",
       "      <td>https://www.benzinga.com/news/ipos/11/05/10789...</td>\n",
       "      <td>Allie Wickman</td>\n",
       "      <td>2011-05-12 00:00:00</td>\n",
       "      <td>ZX</td>\n",
       "    </tr>\n",
       "  </tbody>\n",
       "</table>\n",
       "<p>1407328 rows × 5 columns</p>\n",
       "</div>"
      ],
      "text/plain": [
       "                                                  headline  \\\n",
       "0                  Stocks That Hit 52-Week Highs On Friday   \n",
       "1               Stocks That Hit 52-Week Highs On Wednesday   \n",
       "2                            71 Biggest Movers From Friday   \n",
       "3             46 Stocks Moving In Friday's Mid-Day Session   \n",
       "4        B of A Securities Maintains Neutral on Agilent...   \n",
       "...                                                    ...   \n",
       "1407323             Top Narrow Based Indexes For August 29   \n",
       "1407324  Recap: Wednesday's Top Percentage Gainers and ...   \n",
       "1407325  UPDATE: Oppenheimer Color on China Zenix Auto ...   \n",
       "1407326  Oppenheimer Initiates China Zenix At Outperfor...   \n",
       "1407327  China Zenix Auto International Opens For Tradi...   \n",
       "\n",
       "                                                       url          publisher  \\\n",
       "0        https://www.benzinga.com/news/20/06/16190091/s...  Benzinga Insights   \n",
       "1        https://www.benzinga.com/news/20/06/16170189/s...  Benzinga Insights   \n",
       "2        https://www.benzinga.com/news/20/05/16103463/7...         Lisa Levin   \n",
       "3        https://www.benzinga.com/news/20/05/16095921/4...         Lisa Levin   \n",
       "4        https://www.benzinga.com/news/20/05/16095304/b...         Vick Meyer   \n",
       "...                                                    ...                ...   \n",
       "1407323  https://www.benzinga.com/news/11/08/1888782/to...      Monica Gerson   \n",
       "1407324  https://www.benzinga.com/news/earnings/11/06/1...       Benjamin Lee   \n",
       "1407325  https://www.benzinga.com/analyst-ratings/analy...     BenzingaStaffL   \n",
       "1407326  https://www.benzinga.com/analyst-ratings/price...          Joe Young   \n",
       "1407327  https://www.benzinga.com/news/ipos/11/05/10789...      Allie Wickman   \n",
       "\n",
       "                              date stock  \n",
       "0        2020-06-05 10:30:54-04:00     A  \n",
       "1        2020-06-03 10:45:20-04:00     A  \n",
       "2        2020-05-26 04:30:07-04:00     A  \n",
       "3        2020-05-22 12:45:06-04:00     A  \n",
       "4        2020-05-22 11:38:59-04:00     A  \n",
       "...                            ...   ...  \n",
       "1407323        2011-08-29 00:00:00    ZX  \n",
       "1407324        2011-06-22 00:00:00    ZX  \n",
       "1407325        2011-06-21 00:00:00    ZX  \n",
       "1407326        2011-06-21 00:00:00    ZX  \n",
       "1407327        2011-05-12 00:00:00    ZX  \n",
       "\n",
       "[1407328 rows x 5 columns]"
      ]
     },
     "execution_count": 10,
     "metadata": {},
     "output_type": "execute_result"
    }
   ],
   "source": [
    "data"
   ]
  },
  {
   "cell_type": "code",
   "execution_count": 11,
   "id": "b508aa23",
   "metadata": {},
   "outputs": [],
   "source": [
    "data[\"headline-length\"]=data[\"headline\"].apply(lambda x: len(x.split()))"
   ]
  },
  {
   "cell_type": "markdown",
   "id": "08e8af4c",
   "metadata": {},
   "source": [
    "### The above  code effectively adds a new column to the DataFrame that represents the length (in terms of word count) of each headline."
   ]
  },
  {
   "cell_type": "code",
   "execution_count": 12,
   "id": "75b484eb",
   "metadata": {},
   "outputs": [
    {
     "data": {
      "text/html": [
       "<div>\n",
       "<style scoped>\n",
       "    .dataframe tbody tr th:only-of-type {\n",
       "        vertical-align: middle;\n",
       "    }\n",
       "\n",
       "    .dataframe tbody tr th {\n",
       "        vertical-align: top;\n",
       "    }\n",
       "\n",
       "    .dataframe thead th {\n",
       "        text-align: right;\n",
       "    }\n",
       "</style>\n",
       "<table border=\"1\" class=\"dataframe\">\n",
       "  <thead>\n",
       "    <tr style=\"text-align: right;\">\n",
       "      <th></th>\n",
       "      <th>headline</th>\n",
       "      <th>url</th>\n",
       "      <th>publisher</th>\n",
       "      <th>date</th>\n",
       "      <th>stock</th>\n",
       "      <th>headline-length</th>\n",
       "    </tr>\n",
       "  </thead>\n",
       "  <tbody>\n",
       "    <tr>\n",
       "      <th>0</th>\n",
       "      <td>Stocks That Hit 52-Week Highs On Friday</td>\n",
       "      <td>https://www.benzinga.com/news/20/06/16190091/s...</td>\n",
       "      <td>Benzinga Insights</td>\n",
       "      <td>2020-06-05 10:30:54-04:00</td>\n",
       "      <td>A</td>\n",
       "      <td>7</td>\n",
       "    </tr>\n",
       "    <tr>\n",
       "      <th>1</th>\n",
       "      <td>Stocks That Hit 52-Week Highs On Wednesday</td>\n",
       "      <td>https://www.benzinga.com/news/20/06/16170189/s...</td>\n",
       "      <td>Benzinga Insights</td>\n",
       "      <td>2020-06-03 10:45:20-04:00</td>\n",
       "      <td>A</td>\n",
       "      <td>7</td>\n",
       "    </tr>\n",
       "    <tr>\n",
       "      <th>2</th>\n",
       "      <td>71 Biggest Movers From Friday</td>\n",
       "      <td>https://www.benzinga.com/news/20/05/16103463/7...</td>\n",
       "      <td>Lisa Levin</td>\n",
       "      <td>2020-05-26 04:30:07-04:00</td>\n",
       "      <td>A</td>\n",
       "      <td>5</td>\n",
       "    </tr>\n",
       "    <tr>\n",
       "      <th>3</th>\n",
       "      <td>46 Stocks Moving In Friday's Mid-Day Session</td>\n",
       "      <td>https://www.benzinga.com/news/20/05/16095921/4...</td>\n",
       "      <td>Lisa Levin</td>\n",
       "      <td>2020-05-22 12:45:06-04:00</td>\n",
       "      <td>A</td>\n",
       "      <td>7</td>\n",
       "    </tr>\n",
       "    <tr>\n",
       "      <th>4</th>\n",
       "      <td>B of A Securities Maintains Neutral on Agilent...</td>\n",
       "      <td>https://www.benzinga.com/news/20/05/16095304/b...</td>\n",
       "      <td>Vick Meyer</td>\n",
       "      <td>2020-05-22 11:38:59-04:00</td>\n",
       "      <td>A</td>\n",
       "      <td>14</td>\n",
       "    </tr>\n",
       "    <tr>\n",
       "      <th>...</th>\n",
       "      <td>...</td>\n",
       "      <td>...</td>\n",
       "      <td>...</td>\n",
       "      <td>...</td>\n",
       "      <td>...</td>\n",
       "      <td>...</td>\n",
       "    </tr>\n",
       "    <tr>\n",
       "      <th>1407323</th>\n",
       "      <td>Top Narrow Based Indexes For August 29</td>\n",
       "      <td>https://www.benzinga.com/news/11/08/1888782/to...</td>\n",
       "      <td>Monica Gerson</td>\n",
       "      <td>2011-08-29 00:00:00</td>\n",
       "      <td>ZX</td>\n",
       "      <td>7</td>\n",
       "    </tr>\n",
       "    <tr>\n",
       "      <th>1407324</th>\n",
       "      <td>Recap: Wednesday's Top Percentage Gainers and ...</td>\n",
       "      <td>https://www.benzinga.com/news/earnings/11/06/1...</td>\n",
       "      <td>Benjamin Lee</td>\n",
       "      <td>2011-06-22 00:00:00</td>\n",
       "      <td>ZX</td>\n",
       "      <td>7</td>\n",
       "    </tr>\n",
       "    <tr>\n",
       "      <th>1407325</th>\n",
       "      <td>UPDATE: Oppenheimer Color on China Zenix Auto ...</td>\n",
       "      <td>https://www.benzinga.com/analyst-ratings/analy...</td>\n",
       "      <td>BenzingaStaffL</td>\n",
       "      <td>2011-06-21 00:00:00</td>\n",
       "      <td>ZX</td>\n",
       "      <td>8</td>\n",
       "    </tr>\n",
       "    <tr>\n",
       "      <th>1407326</th>\n",
       "      <td>Oppenheimer Initiates China Zenix At Outperfor...</td>\n",
       "      <td>https://www.benzinga.com/analyst-ratings/price...</td>\n",
       "      <td>Joe Young</td>\n",
       "      <td>2011-06-21 00:00:00</td>\n",
       "      <td>ZX</td>\n",
       "      <td>8</td>\n",
       "    </tr>\n",
       "    <tr>\n",
       "      <th>1407327</th>\n",
       "      <td>China Zenix Auto International Opens For Tradi...</td>\n",
       "      <td>https://www.benzinga.com/news/ipos/11/05/10789...</td>\n",
       "      <td>Allie Wickman</td>\n",
       "      <td>2011-05-12 00:00:00</td>\n",
       "      <td>ZX</td>\n",
       "      <td>14</td>\n",
       "    </tr>\n",
       "  </tbody>\n",
       "</table>\n",
       "<p>1407328 rows × 6 columns</p>\n",
       "</div>"
      ],
      "text/plain": [
       "                                                  headline  \\\n",
       "0                  Stocks That Hit 52-Week Highs On Friday   \n",
       "1               Stocks That Hit 52-Week Highs On Wednesday   \n",
       "2                            71 Biggest Movers From Friday   \n",
       "3             46 Stocks Moving In Friday's Mid-Day Session   \n",
       "4        B of A Securities Maintains Neutral on Agilent...   \n",
       "...                                                    ...   \n",
       "1407323             Top Narrow Based Indexes For August 29   \n",
       "1407324  Recap: Wednesday's Top Percentage Gainers and ...   \n",
       "1407325  UPDATE: Oppenheimer Color on China Zenix Auto ...   \n",
       "1407326  Oppenheimer Initiates China Zenix At Outperfor...   \n",
       "1407327  China Zenix Auto International Opens For Tradi...   \n",
       "\n",
       "                                                       url          publisher  \\\n",
       "0        https://www.benzinga.com/news/20/06/16190091/s...  Benzinga Insights   \n",
       "1        https://www.benzinga.com/news/20/06/16170189/s...  Benzinga Insights   \n",
       "2        https://www.benzinga.com/news/20/05/16103463/7...         Lisa Levin   \n",
       "3        https://www.benzinga.com/news/20/05/16095921/4...         Lisa Levin   \n",
       "4        https://www.benzinga.com/news/20/05/16095304/b...         Vick Meyer   \n",
       "...                                                    ...                ...   \n",
       "1407323  https://www.benzinga.com/news/11/08/1888782/to...      Monica Gerson   \n",
       "1407324  https://www.benzinga.com/news/earnings/11/06/1...       Benjamin Lee   \n",
       "1407325  https://www.benzinga.com/analyst-ratings/analy...     BenzingaStaffL   \n",
       "1407326  https://www.benzinga.com/analyst-ratings/price...          Joe Young   \n",
       "1407327  https://www.benzinga.com/news/ipos/11/05/10789...      Allie Wickman   \n",
       "\n",
       "                              date stock  headline-length  \n",
       "0        2020-06-05 10:30:54-04:00     A                7  \n",
       "1        2020-06-03 10:45:20-04:00     A                7  \n",
       "2        2020-05-26 04:30:07-04:00     A                5  \n",
       "3        2020-05-22 12:45:06-04:00     A                7  \n",
       "4        2020-05-22 11:38:59-04:00     A               14  \n",
       "...                            ...   ...              ...  \n",
       "1407323        2011-08-29 00:00:00    ZX                7  \n",
       "1407324        2011-06-22 00:00:00    ZX                7  \n",
       "1407325        2011-06-21 00:00:00    ZX                8  \n",
       "1407326        2011-06-21 00:00:00    ZX                8  \n",
       "1407327        2011-05-12 00:00:00    ZX               14  \n",
       "\n",
       "[1407328 rows x 6 columns]"
      ]
     },
     "execution_count": 12,
     "metadata": {},
     "output_type": "execute_result"
    }
   ],
   "source": [
    "data"
   ]
  },
  {
   "cell_type": "code",
   "execution_count": 13,
   "id": "5c9ab126",
   "metadata": {},
   "outputs": [
    {
     "data": {
      "text/plain": [
       "count    1.407328e+06\n",
       "mean     1.141671e+01\n",
       "std      6.352997e+00\n",
       "min      1.000000e+00\n",
       "25%      7.000000e+00\n",
       "50%      1.000000e+01\n",
       "75%      1.300000e+01\n",
       "max      7.700000e+01\n",
       "Name: headline-length, dtype: float64"
      ]
     },
     "execution_count": 13,
     "metadata": {},
     "output_type": "execute_result"
    }
   ],
   "source": [
    "data[\"headline-length\"].describe()"
   ]
  },
  {
   "cell_type": "code",
   "execution_count": 14,
   "id": "d55f547f",
   "metadata": {},
   "outputs": [
    {
     "data": {
      "text/plain": [
       "headline-length\n",
       "7     158479\n",
       "8     133819\n",
       "9     132097\n",
       "10    111259\n",
       "11    110394\n",
       "       ...  \n",
       "66        25\n",
       "62        25\n",
       "59         7\n",
       "63         5\n",
       "77         1\n",
       "Name: count, Length: 69, dtype: int64"
      ]
     },
     "execution_count": 14,
     "metadata": {},
     "output_type": "execute_result"
    }
   ],
   "source": [
    "data[\"headline-length\"].value_counts()"
   ]
  },
  {
   "cell_type": "markdown",
   "id": "504b9d0a",
   "metadata": {},
   "source": [
    "### Using data[\"headline_length].describe() in our analysis allows us to gain valuable insights into the dataset’s headline length distribution. This understanding is crucial in sentiment analysis as it can affect how sentiment is perceived and measured, For example, shorter headlines might tend to be more neutral, while longer headlines could convey more sentiment (positive or negative) due to the inclusion of more descriptive words."
   ]
  },
  {
   "cell_type": "code",
   "execution_count": 15,
   "id": "93a4a4dc",
   "metadata": {},
   "outputs": [],
   "source": [
    "article_per_publisher = data[\"publisher\"].value_counts()\n",
    "# The code is used to count the number of articles published by each publisher in the dataset."
   ]
  },
  {
   "cell_type": "code",
   "execution_count": 16,
   "id": "a458de8f",
   "metadata": {},
   "outputs": [
    {
     "data": {
      "text/plain": [
       "publisher\n",
       "Paul Quintaro                      228373\n",
       "Lisa Levin                         186979\n",
       "Benzinga Newsdesk                  150484\n",
       "Charles Gross                       96732\n",
       "Monica Gerson                       82380\n",
       "                                    ...  \n",
       "Shazir Mucklai - Imperium Group         1\n",
       "Laura Jennings                          1\n",
       "Eric Martin                             1\n",
       "Jose Rodrigo                            1\n",
       "Jeremie Capron                          1\n",
       "Name: count, Length: 1034, dtype: int64"
      ]
     },
     "execution_count": 16,
     "metadata": {},
     "output_type": "execute_result"
    }
   ],
   "source": [
    "article_per_publisher"
   ]
  },
  {
   "cell_type": "code",
   "execution_count": 17,
   "id": "1f55f86e",
   "metadata": {},
   "outputs": [],
   "source": [
    "data['date'] = data['date'].apply(lambda x: str(x).strip() if pd.notna(x) else '')"
   ]
  },
  {
   "cell_type": "markdown",
   "id": "9e48ba30",
   "metadata": {},
   "source": [
    "### the result of the above code  is a cleaned 'date' column where all values are strings without any leading or trailing whitespace, and any missing values are replaced with empty strings."
   ]
  },
  {
   "cell_type": "code",
   "execution_count": 18,
   "id": "28e84037",
   "metadata": {},
   "outputs": [
    {
     "data": {
      "text/plain": [
       "dtype('O')"
      ]
     },
     "execution_count": 18,
     "metadata": {},
     "output_type": "execute_result"
    }
   ],
   "source": [
    "data[\"date\"].dtypes"
   ]
  },
  {
   "cell_type": "code",
   "execution_count": 19,
   "id": "793386f8",
   "metadata": {},
   "outputs": [],
   "source": [
    "data['date'] = data['date'].str.replace(r'([+-]\\d{2}:\\d{2})$', '', regex=True).str.strip()\n",
    "# This code helps to standardize the date format by ensuring that all date strings are consistent and free of extraneous information like time zone."
   ]
  },
  {
   "cell_type": "code",
   "execution_count": 20,
   "id": "d2f46efc",
   "metadata": {},
   "outputs": [],
   "source": [
    "data['date'] = pd.to_datetime(data['date'], errors='coerce')"
   ]
  },
  {
   "cell_type": "markdown",
   "id": "be8673db",
   "metadata": {},
   "source": [
    "### By using pd.to_datetime() with errors='coerce', we are effectively cleaning and preparing our date data for any date-related analysis or visualization, ensuring that we have a standardized and manageable format for all date-related operations."
   ]
  },
  {
   "cell_type": "code",
   "execution_count": 21,
   "id": "6f48ca78",
   "metadata": {},
   "outputs": [
    {
     "data": {
      "text/html": [
       "<div>\n",
       "<style scoped>\n",
       "    .dataframe tbody tr th:only-of-type {\n",
       "        vertical-align: middle;\n",
       "    }\n",
       "\n",
       "    .dataframe tbody tr th {\n",
       "        vertical-align: top;\n",
       "    }\n",
       "\n",
       "    .dataframe thead th {\n",
       "        text-align: right;\n",
       "    }\n",
       "</style>\n",
       "<table border=\"1\" class=\"dataframe\">\n",
       "  <thead>\n",
       "    <tr style=\"text-align: right;\">\n",
       "      <th></th>\n",
       "      <th>headline</th>\n",
       "      <th>url</th>\n",
       "      <th>publisher</th>\n",
       "      <th>date</th>\n",
       "      <th>stock</th>\n",
       "      <th>headline-length</th>\n",
       "    </tr>\n",
       "  </thead>\n",
       "  <tbody>\n",
       "    <tr>\n",
       "      <th>0</th>\n",
       "      <td>Stocks That Hit 52-Week Highs On Friday</td>\n",
       "      <td>https://www.benzinga.com/news/20/06/16190091/s...</td>\n",
       "      <td>Benzinga Insights</td>\n",
       "      <td>2020-06-05 10:30:54</td>\n",
       "      <td>A</td>\n",
       "      <td>7</td>\n",
       "    </tr>\n",
       "    <tr>\n",
       "      <th>1</th>\n",
       "      <td>Stocks That Hit 52-Week Highs On Wednesday</td>\n",
       "      <td>https://www.benzinga.com/news/20/06/16170189/s...</td>\n",
       "      <td>Benzinga Insights</td>\n",
       "      <td>2020-06-03 10:45:20</td>\n",
       "      <td>A</td>\n",
       "      <td>7</td>\n",
       "    </tr>\n",
       "    <tr>\n",
       "      <th>2</th>\n",
       "      <td>71 Biggest Movers From Friday</td>\n",
       "      <td>https://www.benzinga.com/news/20/05/16103463/7...</td>\n",
       "      <td>Lisa Levin</td>\n",
       "      <td>2020-05-26 04:30:07</td>\n",
       "      <td>A</td>\n",
       "      <td>5</td>\n",
       "    </tr>\n",
       "    <tr>\n",
       "      <th>3</th>\n",
       "      <td>46 Stocks Moving In Friday's Mid-Day Session</td>\n",
       "      <td>https://www.benzinga.com/news/20/05/16095921/4...</td>\n",
       "      <td>Lisa Levin</td>\n",
       "      <td>2020-05-22 12:45:06</td>\n",
       "      <td>A</td>\n",
       "      <td>7</td>\n",
       "    </tr>\n",
       "    <tr>\n",
       "      <th>4</th>\n",
       "      <td>B of A Securities Maintains Neutral on Agilent...</td>\n",
       "      <td>https://www.benzinga.com/news/20/05/16095304/b...</td>\n",
       "      <td>Vick Meyer</td>\n",
       "      <td>2020-05-22 11:38:59</td>\n",
       "      <td>A</td>\n",
       "      <td>14</td>\n",
       "    </tr>\n",
       "    <tr>\n",
       "      <th>...</th>\n",
       "      <td>...</td>\n",
       "      <td>...</td>\n",
       "      <td>...</td>\n",
       "      <td>...</td>\n",
       "      <td>...</td>\n",
       "      <td>...</td>\n",
       "    </tr>\n",
       "    <tr>\n",
       "      <th>1407323</th>\n",
       "      <td>Top Narrow Based Indexes For August 29</td>\n",
       "      <td>https://www.benzinga.com/news/11/08/1888782/to...</td>\n",
       "      <td>Monica Gerson</td>\n",
       "      <td>2011-08-29 00:00:00</td>\n",
       "      <td>ZX</td>\n",
       "      <td>7</td>\n",
       "    </tr>\n",
       "    <tr>\n",
       "      <th>1407324</th>\n",
       "      <td>Recap: Wednesday's Top Percentage Gainers and ...</td>\n",
       "      <td>https://www.benzinga.com/news/earnings/11/06/1...</td>\n",
       "      <td>Benjamin Lee</td>\n",
       "      <td>2011-06-22 00:00:00</td>\n",
       "      <td>ZX</td>\n",
       "      <td>7</td>\n",
       "    </tr>\n",
       "    <tr>\n",
       "      <th>1407325</th>\n",
       "      <td>UPDATE: Oppenheimer Color on China Zenix Auto ...</td>\n",
       "      <td>https://www.benzinga.com/analyst-ratings/analy...</td>\n",
       "      <td>BenzingaStaffL</td>\n",
       "      <td>2011-06-21 00:00:00</td>\n",
       "      <td>ZX</td>\n",
       "      <td>8</td>\n",
       "    </tr>\n",
       "    <tr>\n",
       "      <th>1407326</th>\n",
       "      <td>Oppenheimer Initiates China Zenix At Outperfor...</td>\n",
       "      <td>https://www.benzinga.com/analyst-ratings/price...</td>\n",
       "      <td>Joe Young</td>\n",
       "      <td>2011-06-21 00:00:00</td>\n",
       "      <td>ZX</td>\n",
       "      <td>8</td>\n",
       "    </tr>\n",
       "    <tr>\n",
       "      <th>1407327</th>\n",
       "      <td>China Zenix Auto International Opens For Tradi...</td>\n",
       "      <td>https://www.benzinga.com/news/ipos/11/05/10789...</td>\n",
       "      <td>Allie Wickman</td>\n",
       "      <td>2011-05-12 00:00:00</td>\n",
       "      <td>ZX</td>\n",
       "      <td>14</td>\n",
       "    </tr>\n",
       "  </tbody>\n",
       "</table>\n",
       "<p>1407328 rows × 6 columns</p>\n",
       "</div>"
      ],
      "text/plain": [
       "                                                  headline  \\\n",
       "0                  Stocks That Hit 52-Week Highs On Friday   \n",
       "1               Stocks That Hit 52-Week Highs On Wednesday   \n",
       "2                            71 Biggest Movers From Friday   \n",
       "3             46 Stocks Moving In Friday's Mid-Day Session   \n",
       "4        B of A Securities Maintains Neutral on Agilent...   \n",
       "...                                                    ...   \n",
       "1407323             Top Narrow Based Indexes For August 29   \n",
       "1407324  Recap: Wednesday's Top Percentage Gainers and ...   \n",
       "1407325  UPDATE: Oppenheimer Color on China Zenix Auto ...   \n",
       "1407326  Oppenheimer Initiates China Zenix At Outperfor...   \n",
       "1407327  China Zenix Auto International Opens For Tradi...   \n",
       "\n",
       "                                                       url          publisher  \\\n",
       "0        https://www.benzinga.com/news/20/06/16190091/s...  Benzinga Insights   \n",
       "1        https://www.benzinga.com/news/20/06/16170189/s...  Benzinga Insights   \n",
       "2        https://www.benzinga.com/news/20/05/16103463/7...         Lisa Levin   \n",
       "3        https://www.benzinga.com/news/20/05/16095921/4...         Lisa Levin   \n",
       "4        https://www.benzinga.com/news/20/05/16095304/b...         Vick Meyer   \n",
       "...                                                    ...                ...   \n",
       "1407323  https://www.benzinga.com/news/11/08/1888782/to...      Monica Gerson   \n",
       "1407324  https://www.benzinga.com/news/earnings/11/06/1...       Benjamin Lee   \n",
       "1407325  https://www.benzinga.com/analyst-ratings/analy...     BenzingaStaffL   \n",
       "1407326  https://www.benzinga.com/analyst-ratings/price...          Joe Young   \n",
       "1407327  https://www.benzinga.com/news/ipos/11/05/10789...      Allie Wickman   \n",
       "\n",
       "                       date stock  headline-length  \n",
       "0       2020-06-05 10:30:54     A                7  \n",
       "1       2020-06-03 10:45:20     A                7  \n",
       "2       2020-05-26 04:30:07     A                5  \n",
       "3       2020-05-22 12:45:06     A                7  \n",
       "4       2020-05-22 11:38:59     A               14  \n",
       "...                     ...   ...              ...  \n",
       "1407323 2011-08-29 00:00:00    ZX                7  \n",
       "1407324 2011-06-22 00:00:00    ZX                7  \n",
       "1407325 2011-06-21 00:00:00    ZX                8  \n",
       "1407326 2011-06-21 00:00:00    ZX                8  \n",
       "1407327 2011-05-12 00:00:00    ZX               14  \n",
       "\n",
       "[1407328 rows x 6 columns]"
      ]
     },
     "execution_count": 21,
     "metadata": {},
     "output_type": "execute_result"
    }
   ],
   "source": [
    "data"
   ]
  },
  {
   "cell_type": "code",
   "execution_count": 22,
   "id": "bb624eff",
   "metadata": {},
   "outputs": [
    {
     "data": {
      "text/plain": [
       "dtype('<M8[ns]')"
      ]
     },
     "execution_count": 22,
     "metadata": {},
     "output_type": "execute_result"
    }
   ],
   "source": [
    "data[\"date\"].dtype"
   ]
  },
  {
   "cell_type": "markdown",
   "id": "ce9caf70",
   "metadata": {},
   "source": [
    "### The data type dtype('<M8[ns]') in Pandas represents a datetime64 format with nanosecond precision\n",
    "<M8: This part indicates the data type is datetime64, which is used for date and time data.<br>\n",
    "[ns]: Specifies that the datetime values are stored with nanosecond precision."
   ]
  },
  {
   "cell_type": "code",
   "execution_count": 23,
   "id": "4c082f20",
   "metadata": {},
   "outputs": [],
   "source": [
    "data['year'] = data['date'].dt.year\n",
    "data['month'] = data['date'].dt.month\n",
    "data['day'] = data['date'].dt.day\n",
    "data['day_of_week'] = data['date'].dt.day_name() \n",
    "data[\"time\"]=data[\"date\"].dt.time\n",
    "# This code extracts specific date and time components from a datetime column in a Pandas DataFrame and creates new columns for each component"
   ]
  },
  {
   "cell_type": "code",
   "execution_count": 24,
   "id": "34fa043e",
   "metadata": {},
   "outputs": [
    {
     "data": {
      "text/html": [
       "<div>\n",
       "<style scoped>\n",
       "    .dataframe tbody tr th:only-of-type {\n",
       "        vertical-align: middle;\n",
       "    }\n",
       "\n",
       "    .dataframe tbody tr th {\n",
       "        vertical-align: top;\n",
       "    }\n",
       "\n",
       "    .dataframe thead th {\n",
       "        text-align: right;\n",
       "    }\n",
       "</style>\n",
       "<table border=\"1\" class=\"dataframe\">\n",
       "  <thead>\n",
       "    <tr style=\"text-align: right;\">\n",
       "      <th></th>\n",
       "      <th>headline</th>\n",
       "      <th>url</th>\n",
       "      <th>publisher</th>\n",
       "      <th>date</th>\n",
       "      <th>stock</th>\n",
       "      <th>headline-length</th>\n",
       "      <th>year</th>\n",
       "      <th>month</th>\n",
       "      <th>day</th>\n",
       "      <th>day_of_week</th>\n",
       "      <th>time</th>\n",
       "    </tr>\n",
       "  </thead>\n",
       "  <tbody>\n",
       "    <tr>\n",
       "      <th>0</th>\n",
       "      <td>Stocks That Hit 52-Week Highs On Friday</td>\n",
       "      <td>https://www.benzinga.com/news/20/06/16190091/s...</td>\n",
       "      <td>Benzinga Insights</td>\n",
       "      <td>2020-06-05 10:30:54</td>\n",
       "      <td>A</td>\n",
       "      <td>7</td>\n",
       "      <td>2020</td>\n",
       "      <td>6</td>\n",
       "      <td>5</td>\n",
       "      <td>Friday</td>\n",
       "      <td>10:30:54</td>\n",
       "    </tr>\n",
       "    <tr>\n",
       "      <th>1</th>\n",
       "      <td>Stocks That Hit 52-Week Highs On Wednesday</td>\n",
       "      <td>https://www.benzinga.com/news/20/06/16170189/s...</td>\n",
       "      <td>Benzinga Insights</td>\n",
       "      <td>2020-06-03 10:45:20</td>\n",
       "      <td>A</td>\n",
       "      <td>7</td>\n",
       "      <td>2020</td>\n",
       "      <td>6</td>\n",
       "      <td>3</td>\n",
       "      <td>Wednesday</td>\n",
       "      <td>10:45:20</td>\n",
       "    </tr>\n",
       "    <tr>\n",
       "      <th>2</th>\n",
       "      <td>71 Biggest Movers From Friday</td>\n",
       "      <td>https://www.benzinga.com/news/20/05/16103463/7...</td>\n",
       "      <td>Lisa Levin</td>\n",
       "      <td>2020-05-26 04:30:07</td>\n",
       "      <td>A</td>\n",
       "      <td>5</td>\n",
       "      <td>2020</td>\n",
       "      <td>5</td>\n",
       "      <td>26</td>\n",
       "      <td>Tuesday</td>\n",
       "      <td>04:30:07</td>\n",
       "    </tr>\n",
       "    <tr>\n",
       "      <th>3</th>\n",
       "      <td>46 Stocks Moving In Friday's Mid-Day Session</td>\n",
       "      <td>https://www.benzinga.com/news/20/05/16095921/4...</td>\n",
       "      <td>Lisa Levin</td>\n",
       "      <td>2020-05-22 12:45:06</td>\n",
       "      <td>A</td>\n",
       "      <td>7</td>\n",
       "      <td>2020</td>\n",
       "      <td>5</td>\n",
       "      <td>22</td>\n",
       "      <td>Friday</td>\n",
       "      <td>12:45:06</td>\n",
       "    </tr>\n",
       "    <tr>\n",
       "      <th>4</th>\n",
       "      <td>B of A Securities Maintains Neutral on Agilent...</td>\n",
       "      <td>https://www.benzinga.com/news/20/05/16095304/b...</td>\n",
       "      <td>Vick Meyer</td>\n",
       "      <td>2020-05-22 11:38:59</td>\n",
       "      <td>A</td>\n",
       "      <td>14</td>\n",
       "      <td>2020</td>\n",
       "      <td>5</td>\n",
       "      <td>22</td>\n",
       "      <td>Friday</td>\n",
       "      <td>11:38:59</td>\n",
       "    </tr>\n",
       "    <tr>\n",
       "      <th>...</th>\n",
       "      <td>...</td>\n",
       "      <td>...</td>\n",
       "      <td>...</td>\n",
       "      <td>...</td>\n",
       "      <td>...</td>\n",
       "      <td>...</td>\n",
       "      <td>...</td>\n",
       "      <td>...</td>\n",
       "      <td>...</td>\n",
       "      <td>...</td>\n",
       "      <td>...</td>\n",
       "    </tr>\n",
       "    <tr>\n",
       "      <th>1407323</th>\n",
       "      <td>Top Narrow Based Indexes For August 29</td>\n",
       "      <td>https://www.benzinga.com/news/11/08/1888782/to...</td>\n",
       "      <td>Monica Gerson</td>\n",
       "      <td>2011-08-29 00:00:00</td>\n",
       "      <td>ZX</td>\n",
       "      <td>7</td>\n",
       "      <td>2011</td>\n",
       "      <td>8</td>\n",
       "      <td>29</td>\n",
       "      <td>Monday</td>\n",
       "      <td>00:00:00</td>\n",
       "    </tr>\n",
       "    <tr>\n",
       "      <th>1407324</th>\n",
       "      <td>Recap: Wednesday's Top Percentage Gainers and ...</td>\n",
       "      <td>https://www.benzinga.com/news/earnings/11/06/1...</td>\n",
       "      <td>Benjamin Lee</td>\n",
       "      <td>2011-06-22 00:00:00</td>\n",
       "      <td>ZX</td>\n",
       "      <td>7</td>\n",
       "      <td>2011</td>\n",
       "      <td>6</td>\n",
       "      <td>22</td>\n",
       "      <td>Wednesday</td>\n",
       "      <td>00:00:00</td>\n",
       "    </tr>\n",
       "    <tr>\n",
       "      <th>1407325</th>\n",
       "      <td>UPDATE: Oppenheimer Color on China Zenix Auto ...</td>\n",
       "      <td>https://www.benzinga.com/analyst-ratings/analy...</td>\n",
       "      <td>BenzingaStaffL</td>\n",
       "      <td>2011-06-21 00:00:00</td>\n",
       "      <td>ZX</td>\n",
       "      <td>8</td>\n",
       "      <td>2011</td>\n",
       "      <td>6</td>\n",
       "      <td>21</td>\n",
       "      <td>Tuesday</td>\n",
       "      <td>00:00:00</td>\n",
       "    </tr>\n",
       "    <tr>\n",
       "      <th>1407326</th>\n",
       "      <td>Oppenheimer Initiates China Zenix At Outperfor...</td>\n",
       "      <td>https://www.benzinga.com/analyst-ratings/price...</td>\n",
       "      <td>Joe Young</td>\n",
       "      <td>2011-06-21 00:00:00</td>\n",
       "      <td>ZX</td>\n",
       "      <td>8</td>\n",
       "      <td>2011</td>\n",
       "      <td>6</td>\n",
       "      <td>21</td>\n",
       "      <td>Tuesday</td>\n",
       "      <td>00:00:00</td>\n",
       "    </tr>\n",
       "    <tr>\n",
       "      <th>1407327</th>\n",
       "      <td>China Zenix Auto International Opens For Tradi...</td>\n",
       "      <td>https://www.benzinga.com/news/ipos/11/05/10789...</td>\n",
       "      <td>Allie Wickman</td>\n",
       "      <td>2011-05-12 00:00:00</td>\n",
       "      <td>ZX</td>\n",
       "      <td>14</td>\n",
       "      <td>2011</td>\n",
       "      <td>5</td>\n",
       "      <td>12</td>\n",
       "      <td>Thursday</td>\n",
       "      <td>00:00:00</td>\n",
       "    </tr>\n",
       "  </tbody>\n",
       "</table>\n",
       "<p>1407328 rows × 11 columns</p>\n",
       "</div>"
      ],
      "text/plain": [
       "                                                  headline  \\\n",
       "0                  Stocks That Hit 52-Week Highs On Friday   \n",
       "1               Stocks That Hit 52-Week Highs On Wednesday   \n",
       "2                            71 Biggest Movers From Friday   \n",
       "3             46 Stocks Moving In Friday's Mid-Day Session   \n",
       "4        B of A Securities Maintains Neutral on Agilent...   \n",
       "...                                                    ...   \n",
       "1407323             Top Narrow Based Indexes For August 29   \n",
       "1407324  Recap: Wednesday's Top Percentage Gainers and ...   \n",
       "1407325  UPDATE: Oppenheimer Color on China Zenix Auto ...   \n",
       "1407326  Oppenheimer Initiates China Zenix At Outperfor...   \n",
       "1407327  China Zenix Auto International Opens For Tradi...   \n",
       "\n",
       "                                                       url          publisher  \\\n",
       "0        https://www.benzinga.com/news/20/06/16190091/s...  Benzinga Insights   \n",
       "1        https://www.benzinga.com/news/20/06/16170189/s...  Benzinga Insights   \n",
       "2        https://www.benzinga.com/news/20/05/16103463/7...         Lisa Levin   \n",
       "3        https://www.benzinga.com/news/20/05/16095921/4...         Lisa Levin   \n",
       "4        https://www.benzinga.com/news/20/05/16095304/b...         Vick Meyer   \n",
       "...                                                    ...                ...   \n",
       "1407323  https://www.benzinga.com/news/11/08/1888782/to...      Monica Gerson   \n",
       "1407324  https://www.benzinga.com/news/earnings/11/06/1...       Benjamin Lee   \n",
       "1407325  https://www.benzinga.com/analyst-ratings/analy...     BenzingaStaffL   \n",
       "1407326  https://www.benzinga.com/analyst-ratings/price...          Joe Young   \n",
       "1407327  https://www.benzinga.com/news/ipos/11/05/10789...      Allie Wickman   \n",
       "\n",
       "                       date stock  headline-length  year  month  day  \\\n",
       "0       2020-06-05 10:30:54     A                7  2020      6    5   \n",
       "1       2020-06-03 10:45:20     A                7  2020      6    3   \n",
       "2       2020-05-26 04:30:07     A                5  2020      5   26   \n",
       "3       2020-05-22 12:45:06     A                7  2020      5   22   \n",
       "4       2020-05-22 11:38:59     A               14  2020      5   22   \n",
       "...                     ...   ...              ...   ...    ...  ...   \n",
       "1407323 2011-08-29 00:00:00    ZX                7  2011      8   29   \n",
       "1407324 2011-06-22 00:00:00    ZX                7  2011      6   22   \n",
       "1407325 2011-06-21 00:00:00    ZX                8  2011      6   21   \n",
       "1407326 2011-06-21 00:00:00    ZX                8  2011      6   21   \n",
       "1407327 2011-05-12 00:00:00    ZX               14  2011      5   12   \n",
       "\n",
       "        day_of_week      time  \n",
       "0            Friday  10:30:54  \n",
       "1         Wednesday  10:45:20  \n",
       "2           Tuesday  04:30:07  \n",
       "3            Friday  12:45:06  \n",
       "4            Friday  11:38:59  \n",
       "...             ...       ...  \n",
       "1407323      Monday  00:00:00  \n",
       "1407324   Wednesday  00:00:00  \n",
       "1407325     Tuesday  00:00:00  \n",
       "1407326     Tuesday  00:00:00  \n",
       "1407327    Thursday  00:00:00  \n",
       "\n",
       "[1407328 rows x 11 columns]"
      ]
     },
     "execution_count": 24,
     "metadata": {},
     "output_type": "execute_result"
    }
   ],
   "source": [
    "data"
   ]
  },
  {
   "cell_type": "code",
   "execution_count": 25,
   "id": "4a84add9",
   "metadata": {},
   "outputs": [],
   "source": [
    "articles_over_time = data['date'].dt.to_period('M').value_counts().sort_index()"
   ]
  },
  {
   "cell_type": "markdown",
   "id": "a3e6705c",
   "metadata": {},
   "source": [
    "### The above line of code provides a count of articles or records per month, with the results sorted by date. It is useful for analyzing trends or changes over time on a monthly basis."
   ]
  },
  {
   "cell_type": "code",
   "execution_count": 26,
   "id": "065ea174",
   "metadata": {},
   "outputs": [
    {
     "data": {
      "text/plain": [
       "date\n",
       "2009-02        1\n",
       "2009-04        3\n",
       "2009-05       12\n",
       "2009-06       40\n",
       "2009-07       75\n",
       "           ...  \n",
       "2020-02    18879\n",
       "2020-03    24994\n",
       "2020-04    20757\n",
       "2020-05    17992\n",
       "2020-06     6447\n",
       "Freq: M, Name: count, Length: 136, dtype: int64"
      ]
     },
     "execution_count": 26,
     "metadata": {},
     "output_type": "execute_result"
    }
   ],
   "source": [
    "articles_over_time"
   ]
  },
  {
   "cell_type": "markdown",
   "id": "0df708d5",
   "metadata": {},
   "source": [
    "### The overall trend which is implied by the result  is an increase in the number of articles over time, particularly noticeable from mid-2019. This suggests growing activity or expanded coverage in the data source.\n"
   ]
  },
  {
   "cell_type": "code",
   "execution_count": 27,
   "id": "ef887122",
   "metadata": {},
   "outputs": [],
   "source": [
    "articles_by_day = data['day_of_week'].value_counts()\n"
   ]
  },
  {
   "cell_type": "code",
   "execution_count": 28,
   "id": "597b61a7",
   "metadata": {},
   "outputs": [
    {
     "data": {
      "text/plain": [
       "day_of_week\n",
       "Thursday     302595\n",
       "Wednesday    300940\n",
       "Tuesday      296470\n",
       "Monday       265164\n",
       "Friday       217892\n",
       "Sunday        16514\n",
       "Saturday       7753\n",
       "Name: count, dtype: int64"
      ]
     },
     "execution_count": 28,
     "metadata": {},
     "output_type": "execute_result"
    }
   ],
   "source": [
    "articles_by_day"
   ]
  },
  {
   "cell_type": "markdown",
   "id": "f6cd2fa3",
   "metadata": {},
   "source": [
    "### The overall trend shows a decrease in the number of articles from Tuesday through to Saturday, with the peak on Wednesday and Thursday, followed by a steep drop over the weekend."
   ]
  },
  {
   "cell_type": "code",
   "execution_count": 29,
   "id": "8e1b3459",
   "metadata": {},
   "outputs": [
    {
     "data": {
      "image/png": "[encoded data removed]",
      "text/plain": [
       "<Figure size 1000x600 with 1 Axes>"
      ]
     },
     "metadata": {},
     "output_type": "display_data"
    }
   ],
   "source": [
    "# Visualize the distribution of headline lengths in words\n",
    "plt.figure(figsize=(10, 6))\n",
    "sns.histplot(data['headline-length'], bins=30, kde=True)\n",
    "plt.title('Distribution of Headline Lengths (Characters)')\n",
    "plt.xlabel('Headline Length (words)')\n",
    "plt.ylabel('Frequency')\n",
    "plt.show()\n",
    "plt.savefig(\"words.jpg\")\n",
    "plt.close()"
   ]
  },
  {
   "cell_type": "markdown",
   "id": "701939d6",
   "metadata": {},
   "source": [
    "### From the above figure we can understand The most common headline lengths are 7, 8, and 9 words, with counts of 158,479, 133,819, and 132,097, respectively.\n",
    "### The frequency of headlines decreases as the length increases, with fewer headlines for lengths greater than 11 words.\n",
    "###  Very long headlines, such as those with 66, 62, 59, 63, and 77 words, are significantly less frequent."
   ]
  },
  {
   "cell_type": "code",
   "execution_count": 30,
   "id": "fe9983c3",
   "metadata": {},
   "outputs": [
    {
     "data": {
      "image/png": "[encoded data removed]",
      "text/plain": [
       "<Figure size 1200x600 with 1 Axes>"
      ]
     },
     "metadata": {},
     "output_type": "display_data"
    },
    {
     "data": {
      "text/plain": [
       "<Figure size 640x480 with 0 Axes>"
      ]
     },
     "metadata": {},
     "output_type": "display_data"
    }
   ],
   "source": [
    "# Visualize the number of articles per publisher\n",
    "plt.figure(figsize=(12, 6))\n",
    "article_per_publisher.head(10).plot(kind='bar')\n",
    "plt.title('Top 10 Publishers by Number of Articles')\n",
    "plt.xlabel('Publisher')\n",
    "plt.ylabel('Number of Articles')\n",
    "plt.show()\n",
    "plt.savefig(\"publisher.jpg\")"
   ]
  },
  {
   "cell_type": "markdown",
   "id": "633c7707",
   "metadata": {},
   "source": [
    "### A few publishers dominate the dataset with a large number of articles. For example, Paul Quintaro and Lisa Levin are significantly more represented compared to others. This suggests that these publishers may be major sources of content in our dataset."
   ]
  },
  {
   "cell_type": "code",
   "execution_count": 31,
   "id": "a315ae3f",
   "metadata": {},
   "outputs": [
    {
     "data": {
      "image/png": "[encoded data removed]",
      "text/plain": [
       "<Figure size 1200x600 with 1 Axes>"
      ]
     },
     "metadata": {},
     "output_type": "display_data"
    }
   ],
   "source": [
    "# Visualize the number of articles over time (monthly)\n",
    "plt.figure(figsize=(12, 6))\n",
    "articles_over_time.plot()\n",
    "plt.title('Number of Articles Published Over Time (Monthly)')\n",
    "plt.xlabel('Date')\n",
    "plt.ylabel('Number of Articles')\n",
    "plt.show()\n"
   ]
  },
  {
   "cell_type": "markdown",
   "id": "8bf5a0af",
   "metadata": {},
   "source": [
    "### There is a clear trend of increasing article counts over time. The early years have minimal data, while recent years show a substantial increase in the number of articles.\n",
    "### The spike in articles in recent years could be attributed to various factors, such as increased media coverage, improved data collection methods, or actual growth in content generation."
   ]
  },
  {
   "cell_type": "code",
   "execution_count": 32,
   "id": "da4f93ee",
   "metadata": {},
   "outputs": [
    {
     "data": {
      "image/png": "[encoded data removed]",
      "text/plain": [
       "<Figure size 1000x600 with 1 Axes>"
      ]
     },
     "metadata": {},
     "output_type": "display_data"
    }
   ],
   "source": [
    "# Visualize the number of articles by day of the week\n",
    "plt.figure(figsize=(10, 6))\n",
    "sns.barplot(x=articles_by_day.index, y=articles_by_day.values)\n",
    "plt.title('Number of Articles by Day of the Week')\n",
    "plt.xlabel('Day of the Week')\n",
    "plt.ylabel('Number of Articles')\n",
    "plt.show()\n"
   ]
  },
  {
   "cell_type": "markdown",
   "id": "9cbf9aef",
   "metadata": {},
   "source": [
    "### The data shows that weekdays (Thursday, Wednesday, Tuesday, and Monday) have substantially more articles compared to weekends (Saturday and Sunday). This suggests higher publishing activity during the workweek.\n",
    "### Thursday has the highest number of articles, which could indicate increased publishing activity towards the end of the week or a pattern in content generation."
   ]
  },
  {
   "cell_type": "code",
   "execution_count": 33,
   "id": "9e6219b0",
   "metadata": {},
   "outputs": [],
   "source": [
    "data.to_csv(\"descriptive-statistics.csv\")"
   ]
  },
  {
   "cell_type": "code",
   "execution_count": null,
   "id": "bb39bc96",
   "metadata": {},
   "outputs": [],
   "source": []
  }
 ],
 "metadata": {
  "kernelspec": {
   "display_name": "Python 3 (ipykernel)",
   "language": "python",
   "name": "python3"
  },
  "language_info": {
   "codemirror_mode": {
    "name": "ipython",
    "version": 3
   },
   "file_extension": ".py",
   "mimetype": "text/x-python",
   "name": "python",
   "nbconvert_exporter": "python",
   "pygments_lexer": "ipython3",
   "version": "3.11.5"
  }
 },
 "nbformat": 4,
 "nbformat_minor": 5
}
